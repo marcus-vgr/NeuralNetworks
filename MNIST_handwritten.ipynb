{
 "cells": [
  {
   "cell_type": "markdown",
   "metadata": {},
   "source": [
    "# Training a Neural Network with the MNIST Hand-written Dataset"
   ]
  },
  {
   "cell_type": "code",
   "execution_count": 1,
   "metadata": {},
   "outputs": [],
   "source": [
    "import numpy as np\n",
    "import matplotlib.pyplot as plt\n",
    "import pandas as pd\n",
    "import NeuralNetwork as NN\n",
    "import cv2\n",
    "\n",
    "%matplotlib inline"
   ]
  },
  {
   "cell_type": "markdown",
   "metadata": {},
   "source": [
    "### Read Data and Preprocess\n",
    "\n",
    "The data can be downloaded from https://www.kaggle.com/c/digit-recognizer/data\n",
    "\n",
    "Each row in the csv file is a 1D array representing the image, starting at column 1. Column 0 gives the label of the image."
   ]
  },
  {
   "cell_type": "code",
   "execution_count": 2,
   "metadata": {},
   "outputs": [
    {
     "data": {
      "text/html": [
       "<div>\n",
       "<style scoped>\n",
       "    .dataframe tbody tr th:only-of-type {\n",
       "        vertical-align: middle;\n",
       "    }\n",
       "\n",
       "    .dataframe tbody tr th {\n",
       "        vertical-align: top;\n",
       "    }\n",
       "\n",
       "    .dataframe thead th {\n",
       "        text-align: right;\n",
       "    }\n",
       "</style>\n",
       "<table border=\"1\" class=\"dataframe\">\n",
       "  <thead>\n",
       "    <tr style=\"text-align: right;\">\n",
       "      <th></th>\n",
       "      <th>label</th>\n",
       "      <th>pixel0</th>\n",
       "      <th>pixel1</th>\n",
       "      <th>pixel2</th>\n",
       "      <th>pixel3</th>\n",
       "      <th>pixel4</th>\n",
       "      <th>pixel5</th>\n",
       "      <th>pixel6</th>\n",
       "      <th>pixel7</th>\n",
       "      <th>pixel8</th>\n",
       "      <th>...</th>\n",
       "      <th>pixel774</th>\n",
       "      <th>pixel775</th>\n",
       "      <th>pixel776</th>\n",
       "      <th>pixel777</th>\n",
       "      <th>pixel778</th>\n",
       "      <th>pixel779</th>\n",
       "      <th>pixel780</th>\n",
       "      <th>pixel781</th>\n",
       "      <th>pixel782</th>\n",
       "      <th>pixel783</th>\n",
       "    </tr>\n",
       "  </thead>\n",
       "  <tbody>\n",
       "    <tr>\n",
       "      <th>0</th>\n",
       "      <td>1</td>\n",
       "      <td>0</td>\n",
       "      <td>0</td>\n",
       "      <td>0</td>\n",
       "      <td>0</td>\n",
       "      <td>0</td>\n",
       "      <td>0</td>\n",
       "      <td>0</td>\n",
       "      <td>0</td>\n",
       "      <td>0</td>\n",
       "      <td>...</td>\n",
       "      <td>0</td>\n",
       "      <td>0</td>\n",
       "      <td>0</td>\n",
       "      <td>0</td>\n",
       "      <td>0</td>\n",
       "      <td>0</td>\n",
       "      <td>0</td>\n",
       "      <td>0</td>\n",
       "      <td>0</td>\n",
       "      <td>0</td>\n",
       "    </tr>\n",
       "    <tr>\n",
       "      <th>1</th>\n",
       "      <td>0</td>\n",
       "      <td>0</td>\n",
       "      <td>0</td>\n",
       "      <td>0</td>\n",
       "      <td>0</td>\n",
       "      <td>0</td>\n",
       "      <td>0</td>\n",
       "      <td>0</td>\n",
       "      <td>0</td>\n",
       "      <td>0</td>\n",
       "      <td>...</td>\n",
       "      <td>0</td>\n",
       "      <td>0</td>\n",
       "      <td>0</td>\n",
       "      <td>0</td>\n",
       "      <td>0</td>\n",
       "      <td>0</td>\n",
       "      <td>0</td>\n",
       "      <td>0</td>\n",
       "      <td>0</td>\n",
       "      <td>0</td>\n",
       "    </tr>\n",
       "    <tr>\n",
       "      <th>2</th>\n",
       "      <td>1</td>\n",
       "      <td>0</td>\n",
       "      <td>0</td>\n",
       "      <td>0</td>\n",
       "      <td>0</td>\n",
       "      <td>0</td>\n",
       "      <td>0</td>\n",
       "      <td>0</td>\n",
       "      <td>0</td>\n",
       "      <td>0</td>\n",
       "      <td>...</td>\n",
       "      <td>0</td>\n",
       "      <td>0</td>\n",
       "      <td>0</td>\n",
       "      <td>0</td>\n",
       "      <td>0</td>\n",
       "      <td>0</td>\n",
       "      <td>0</td>\n",
       "      <td>0</td>\n",
       "      <td>0</td>\n",
       "      <td>0</td>\n",
       "    </tr>\n",
       "    <tr>\n",
       "      <th>3</th>\n",
       "      <td>4</td>\n",
       "      <td>0</td>\n",
       "      <td>0</td>\n",
       "      <td>0</td>\n",
       "      <td>0</td>\n",
       "      <td>0</td>\n",
       "      <td>0</td>\n",
       "      <td>0</td>\n",
       "      <td>0</td>\n",
       "      <td>0</td>\n",
       "      <td>...</td>\n",
       "      <td>0</td>\n",
       "      <td>0</td>\n",
       "      <td>0</td>\n",
       "      <td>0</td>\n",
       "      <td>0</td>\n",
       "      <td>0</td>\n",
       "      <td>0</td>\n",
       "      <td>0</td>\n",
       "      <td>0</td>\n",
       "      <td>0</td>\n",
       "    </tr>\n",
       "    <tr>\n",
       "      <th>4</th>\n",
       "      <td>0</td>\n",
       "      <td>0</td>\n",
       "      <td>0</td>\n",
       "      <td>0</td>\n",
       "      <td>0</td>\n",
       "      <td>0</td>\n",
       "      <td>0</td>\n",
       "      <td>0</td>\n",
       "      <td>0</td>\n",
       "      <td>0</td>\n",
       "      <td>...</td>\n",
       "      <td>0</td>\n",
       "      <td>0</td>\n",
       "      <td>0</td>\n",
       "      <td>0</td>\n",
       "      <td>0</td>\n",
       "      <td>0</td>\n",
       "      <td>0</td>\n",
       "      <td>0</td>\n",
       "      <td>0</td>\n",
       "      <td>0</td>\n",
       "    </tr>\n",
       "  </tbody>\n",
       "</table>\n",
       "<p>5 rows × 785 columns</p>\n",
       "</div>"
      ],
      "text/plain": [
       "   label  pixel0  pixel1  pixel2  pixel3  pixel4  pixel5  pixel6  pixel7  \\\n",
       "0      1       0       0       0       0       0       0       0       0   \n",
       "1      0       0       0       0       0       0       0       0       0   \n",
       "2      1       0       0       0       0       0       0       0       0   \n",
       "3      4       0       0       0       0       0       0       0       0   \n",
       "4      0       0       0       0       0       0       0       0       0   \n",
       "\n",
       "   pixel8  ...  pixel774  pixel775  pixel776  pixel777  pixel778  pixel779  \\\n",
       "0       0  ...         0         0         0         0         0         0   \n",
       "1       0  ...         0         0         0         0         0         0   \n",
       "2       0  ...         0         0         0         0         0         0   \n",
       "3       0  ...         0         0         0         0         0         0   \n",
       "4       0  ...         0         0         0         0         0         0   \n",
       "\n",
       "   pixel780  pixel781  pixel782  pixel783  \n",
       "0         0         0         0         0  \n",
       "1         0         0         0         0  \n",
       "2         0         0         0         0  \n",
       "3         0         0         0         0  \n",
       "4         0         0         0         0  \n",
       "\n",
       "[5 rows x 785 columns]"
      ]
     },
     "execution_count": 2,
     "metadata": {},
     "output_type": "execute_result"
    }
   ],
   "source": [
    "path_dataframe = '~/Física/Python/NeuralNetworks/MNIST_handwritten/train.csv'\n",
    "digit_dataframe = pd.read_csv(path_dataframe)\n",
    "digit_dataframe.head()"
   ]
  },
  {
   "cell_type": "code",
   "execution_count": 3,
   "metadata": {},
   "outputs": [
    {
     "data": {
      "image/png": "[encoded data removed]",
      "text/plain": [
       "<Figure size 432x288 with 1 Axes>"
      ]
     },
     "metadata": {
      "needs_background": "light"
     },
     "output_type": "display_data"
    }
   ],
   "source": [
    "# A simple test\n",
    "\n",
    "test = digit_dataframe.iloc[10].values[:]; dim = int(len(test[1:])**0.5)\n",
    "label = test[0]\n",
    "test = test[1:].reshape((dim,dim))\n",
    "plt.imshow(test); _= plt.title(f'Number {label}')"
   ]
  },
  {
   "cell_type": "markdown",
   "metadata": {},
   "source": [
    "It's import to separate the data in training data and validation data, and we should also have equally distributed\n",
    "data for each number"
   ]
  },
  {
   "cell_type": "code",
   "execution_count": 4,
   "metadata": {},
   "outputs": [
    {
     "name": "stdout",
     "output_type": "stream",
     "text": [
      "Number 0: 4132 samples\n",
      "Number 1: 4684 samples\n",
      "Number 2: 4177 samples\n",
      "Number 3: 4351 samples\n",
      "Number 4: 4072 samples\n",
      "Number 5: 3795 samples\n",
      "Number 6: 4137 samples\n",
      "Number 7: 4401 samples\n",
      "Number 8: 4063 samples\n",
      "Number 9: 4188 samples\n"
     ]
    }
   ],
   "source": [
    "# Check how many samples we have for each number\n",
    "\n",
    "for i in range(10):\n",
    "    print(f'Number {i}: '+str(digit_dataframe.loc[digit_dataframe['label'] == i].shape[0])+' samples')"
   ]
  },
  {
   "cell_type": "markdown",
   "metadata": {},
   "source": [
    "We will collect 3000 samples of each number to use as training data"
   ]
  },
  {
   "cell_type": "code",
   "execution_count": 5,
   "metadata": {},
   "outputs": [],
   "source": [
    "#Create empty lists\n",
    "training_array_data = []; training_array_lbl = []; validation_array_data = []; validation_array_lbl = [] \n",
    "\n",
    "for i in range(10):\n",
    "    # Create auxiliary dataframe that contains only label i\n",
    "    df_aux = digit_dataframe.loc[digit_dataframe['label'] == i]\n",
    "    for j in range(3000):\n",
    "        training_array_data.append(df_aux.iloc[j].values[1:])\n",
    "        training_array_lbl.append(i) \n",
    "    for j in range(3000, digit_dataframe.loc[digit_dataframe['label'] == i].shape[0]):\n",
    "        validation_array_data.append(df_aux.iloc[j].values[1:])\n",
    "        validation_array_lbl.append(i)\n",
    "        \n",
    "training_array_data = np.array(training_array_data)\n",
    "training_array_lbl = np.array(training_array_lbl)\n",
    "validation_array_data = np.array(validation_array_data)\n",
    "validation_array_lbl = np.array(validation_array_lbl)\n",
    "\n",
    "#Shuffle the training data\n",
    "keys = np.array(range(training_array_data.shape[0]))\n",
    "np.random.shuffle(keys)\n",
    "training_array_data = training_array_data[keys]\n",
    "training_array_lbl = training_array_lbl[keys]\n",
    "\n",
    "#Delete pandas dataframe since we are going to use it anymore\n",
    "del digit_dataframe"
   ]
  },
  {
   "cell_type": "code",
   "execution_count": 6,
   "metadata": {},
   "outputs": [
    {
     "data": {
      "image/png": "[encoded data removed]",
      "text/plain": [
       "<Figure size 432x288 with 1 Axes>"
      ]
     },
     "metadata": {
      "needs_background": "light"
     },
     "output_type": "display_data"
    }
   ],
   "source": [
    "# Simple test again\n",
    "\n",
    "test = training_array_data[100]; dim = int(len(test[:])**0.5)\n",
    "label = training_array_lbl[100]\n",
    "test = test[:].reshape((dim,dim))\n",
    "plt.imshow(test); _= plt.title(f'Number {label}')"
   ]
  },
  {
   "cell_type": "markdown",
   "metadata": {},
   "source": [
    "## Rescaling the data and Training our Model\n",
    "\n",
    "We will use 2 hidden layers with 128 layers each; L2 regularization in the first layer; layer dropout with a rate of 10%; Categorical Cross Etropy for the Loss and the Adam Optimizer"
   ]
  },
  {
   "cell_type": "code",
   "execution_count": 7,
   "metadata": {},
   "outputs": [],
   "source": [
    "# Rescaling the data\n",
    "\n",
    "training_array_data = (training_array_data - 127.5) / 127.5\n",
    "validation_array_data = (validation_array_data - 127.5) / 127.5"
   ]
  },
  {
   "cell_type": "code",
   "execution_count": 8,
   "metadata": {},
   "outputs": [
    {
     "name": "stdout",
     "output_type": "stream",
     "text": [
      "Epoch 1 training, acc: 0.801, loss: 0.758 (data_loss: 0.723, reg_loss: 0.035), lr: 0.0009884353069091628\n",
      "VALIDATION, acc: 0.895, loss: 0.359\n",
      "Epoch 2 training, acc: 0.900, loss: 0.380 (data_loss: 0.337, reg_loss: 0.043), lr: 0.0009770873027505008\n",
      "VALIDATION, acc: 0.915, loss: 0.295\n",
      "Epoch 3 training, acc: 0.921, loss: 0.323 (data_loss: 0.274, reg_loss: 0.049), lr: 0.0009659969088098919\n",
      "VALIDATION, acc: 0.928, loss: 0.251\n",
      "Epoch 4 training, acc: 0.932, loss: 0.285 (data_loss: 0.233, reg_loss: 0.052), lr: 0.0009551554515497397\n",
      "VALIDATION, acc: 0.931, loss: 0.228\n",
      "Epoch 5 training, acc: 0.941, loss: 0.259 (data_loss: 0.204, reg_loss: 0.055), lr: 0.0009445546424860678\n",
      "VALIDATION, acc: 0.940, loss: 0.201\n",
      "Epoch 6 training, acc: 0.947, loss: 0.239 (data_loss: 0.183, reg_loss: 0.056), lr: 0.000934186557055444\n",
      "VALIDATION, acc: 0.942, loss: 0.193\n",
      "Epoch 7 training, acc: 0.950, loss: 0.226 (data_loss: 0.169, reg_loss: 0.057), lr: 0.0009240436148586213\n",
      "VALIDATION, acc: 0.950, loss: 0.177\n",
      "Epoch 8 training, acc: 0.955, loss: 0.213 (data_loss: 0.156, reg_loss: 0.058), lr: 0.0009141185611773847\n",
      "VALIDATION, acc: 0.946, loss: 0.176\n",
      "Epoch 9 training, acc: 0.957, loss: 0.204 (data_loss: 0.146, reg_loss: 0.058), lr: 0.0009044044496698925\n",
      "VALIDATION, acc: 0.951, loss: 0.165\n",
      "Epoch 10 training, acc: 0.960, loss: 0.195 (data_loss: 0.137, reg_loss: 0.058), lr: 0.0008948946261577699\n",
      "VALIDATION, acc: 0.951, loss: 0.163\n"
     ]
    }
   ],
   "source": [
    "model = NN.Model(save_stats = True) # We will save the stats to plot later\n",
    "\n",
    "model.add(NN.Layer_Dense(training_array_data.shape[1],128, weight_regularizer_l2=5e-4, bias_regularizer_l2=5e-4))\n",
    "model.add(NN.Activation_ReLU())\n",
    "model.add(NN.Layer_Dropout(0.1))\n",
    "model.add(NN.Layer_Dense(128,10))\n",
    "model.add(NN.Activation_Softmax())\n",
    "\n",
    "model.set(\n",
    "    loss = NN.Loss_CategoricalCrossEntropy(),\n",
    "    optimizer = NN.Optimizer_Adam(learning_rate = 0.001, decay=5e-5),\n",
    "    accuracy = NN.Accuracy_Categorical())\n",
    "\n",
    "model.finalize()\n",
    "\n",
    "model.train(training_array_data,training_array_lbl, epochs=10, batch_size=128,\n",
    "            validation_data=(validation_array_data, validation_array_lbl))"
   ]
  },
  {
   "cell_type": "code",
   "execution_count": 9,
   "metadata": {},
   "outputs": [
    {
     "data": {
      "text/plain": [
       "Text(0.5, 1.0, 'Learning Rate')"
      ]
     },
     "execution_count": 9,
     "metadata": {},
     "output_type": "execute_result"
    },
    {
     "data": {
      "image/png": "[encoded data removed]",
      "text/plain": [
       "<Figure size 1440x360 with 3 Axes>"
      ]
     },
     "metadata": {
      "needs_background": "light"
     },
     "output_type": "display_data"
    }
   ],
   "source": [
    "loss_array = np.array(model.loss_arr)\n",
    "acc_array = np.array(model.acc_arr)\n",
    "learning_array = np.array(model.lr_arr)\n",
    "\n",
    "fig, ax = plt.subplots(nrows=1, ncols=3, figsize=(20,5))\n",
    "\n",
    "ax[0].plot(range(len(loss_array)), loss_array, '-'); ax[0].set_title('Loss', fontsize=15)\n",
    "ax[1].plot(range(len(acc_array)), acc_array, '-'); ax[1].set_title('Accuracy', fontsize=15)\n",
    "ax[2].plot(range(len(learning_array)), learning_array, '-'); ax[2].set_title('Learning Rate', fontsize=15)"
   ]
  },
  {
   "cell_type": "markdown",
   "metadata": {},
   "source": [
    "## Saving Model\n",
    "\n",
    "**Test of our Model can be done with the DrawNumbers.py file, where the user can draw your own number with the mouse**"
   ]
  },
  {
   "cell_type": "code",
   "execution_count": 10,
   "metadata": {},
   "outputs": [],
   "source": [
    "model.save('Digit_Recognizer.model')"
   ]
  },
  {
   "cell_type": "code",
   "execution_count": null,
   "metadata": {},
   "outputs": [],
   "source": []
  }
 ],
 "metadata": {
  "kernelspec": {
   "display_name": "Python 3",
   "language": "python",
   "name": "python3"
  },
  "language_info": {
   "codemirror_mode": {
    "name": "ipython",
    "version": 3
   },
   "file_extension": ".py",
   "mimetype": "text/x-python",
   "name": "python",
   "nbconvert_exporter": "python",
   "pygments_lexer": "ipython3",
   "version": "3.7.3"
  }
 },
 "nbformat": 4,
 "nbformat_minor": 2
}
